{
  "nbformat": 4,
  "nbformat_minor": 0,
  "metadata": {
    "colab": {
      "provenance": [],
      "gpuType": "T4"
    },
    "kernelspec": {
      "name": "python3",
      "display_name": "Python 3"
    },
    "language_info": {
      "name": "python"
    },
    "accelerator": "GPU"
  },
  "cells": [
    {
      "cell_type": "code",
      "execution_count": null,
      "metadata": {
        "id": "ir1wvRGrXOjI",
        "colab": {
          "base_uri": "https://localhost:8080/"
        },
        "outputId": "580c7712-f1f4-437b-8ae5-b63132bc0714"
      },
      "outputs": [
        {
          "output_type": "stream",
          "name": "stdout",
          "text": [
            "[NGCF-PyTorch.zip]\n",
            "  End-of-central-directory signature not found.  Either this file is not\n",
            "  a zipfile, or it constitutes one disk of a multi-part archive.  In the\n",
            "  latter case the central directory and zipfile comment will be found on\n",
            "  the last disk(s) of this archive.\n",
            "unzip:  cannot find zipfile directory in one of NGCF-PyTorch.zip or\n",
            "        NGCF-PyTorch.zip.zip, and cannot find NGCF-PyTorch.zip.ZIP, period.\n"
          ]
        }
      ],
      "source": [
        "!unzip -q NGCF-PyTorch.zip\n"
      ]
    },
    {
      "cell_type": "code",
      "source": [
        "!git clone https://github.com/huangtinglin/NGCF-PyTorch.git"
      ],
      "metadata": {
        "colab": {
          "base_uri": "https://localhost:8080/"
        },
        "id": "YG_O8zoZaPHl",
        "outputId": "f40c2c85-6df6-43a9-edc9-f4228b502cd1"
      },
      "execution_count": null,
      "outputs": [
        {
          "output_type": "stream",
          "name": "stdout",
          "text": [
            "Cloning into 'NGCF-PyTorch'...\n",
            "remote: Enumerating objects: 66, done.\u001b[K\n",
            "remote: Counting objects: 100% (11/11), done.\u001b[K\n",
            "remote: Compressing objects: 100% (9/9), done.\u001b[K\n",
            "remote: Total 66 (delta 4), reused 2 (delta 2), pack-reused 55 (from 1)\u001b[K\n",
            "Receiving objects: 100% (66/66), 11.71 MiB | 6.72 MiB/s, done.\n",
            "Resolving deltas: 100% (21/21), done.\n"
          ]
        }
      ]
    },
    {
      "cell_type": "code",
      "source": [
        "!python main.py --gpu_id 0 --epoch 5 --batch_size 256\n"
      ],
      "metadata": {
        "colab": {
          "base_uri": "https://localhost:8080/"
        },
        "id": "WNdYClugasD6",
        "outputId": "ecbddd34-6aa7-493b-f7b0-82e1a3512eee"
      },
      "execution_count": null,
      "outputs": [
        {
          "output_type": "stream",
          "name": "stdout",
          "text": [
            "python3: can't open file '/content/main.py': [Errno 2] No such file or directory\n"
          ]
        }
      ]
    },
    {
      "cell_type": "code",
      "source": [
        "!python ./NGCF-PyTorch/NGCF/main.py --gpu_id 0 --epoch 5\n"
      ],
      "metadata": {
        "colab": {
          "base_uri": "https://localhost:8080/"
        },
        "id": "s2k5Emw6a3uS",
        "outputId": "91e2b43f-d14a-454c-e558-ddf806905b70"
      },
      "execution_count": null,
      "outputs": [
        {
          "output_type": "stream",
          "name": "stdout",
          "text": [
            "Traceback (most recent call last):\n",
            "  File \"/content/./NGCF-PyTorch/NGCF/main.py\", line 12, in <module>\n",
            "    from utility.batch_test import *\n",
            "  File \"/content/NGCF-PyTorch/NGCF/utility/batch_test.py\", line 19, in <module>\n",
            "    data_generator = Data(path=args.data_path + args.dataset, batch_size=args.batch_size)\n",
            "  File \"/content/NGCF-PyTorch/NGCF/utility/load_data.py\", line 28, in __init__\n",
            "    with open(train_file) as f:\n",
            "FileNotFoundError: [Errno 2] No such file or directory: '../Data/gowalla/train.txt'\n"
          ]
        }
      ]
    },
    {
      "cell_type": "code",
      "source": [
        "import os\n",
        "print(os.getcwd())"
      ],
      "metadata": {
        "colab": {
          "base_uri": "https://localhost:8080/"
        },
        "id": "GTgwlfEqbJog",
        "outputId": "851ae81b-e146-4f18-dead-284e65916c3a"
      },
      "execution_count": null,
      "outputs": [
        {
          "output_type": "stream",
          "name": "stdout",
          "text": [
            "/content\n"
          ]
        }
      ]
    },
    {
      "cell_type": "code",
      "source": [
        "%cd /content/NGCF-PyTorch/NGCF\n"
      ],
      "metadata": {
        "colab": {
          "base_uri": "https://localhost:8080/"
        },
        "id": "wQc02dRYb3pR",
        "outputId": "ce458f96-3a79-4457-ab7f-beeba8983ce7"
      },
      "execution_count": 2,
      "outputs": [
        {
          "output_type": "stream",
          "name": "stdout",
          "text": [
            "/content/NGCF-PyTorch/NGCF\n"
          ]
        }
      ]
    },
    {
      "cell_type": "code",
      "source": [
        "!python main.py --gpu_id 0 --epoch 5"
      ],
      "metadata": {
        "colab": {
          "base_uri": "https://localhost:8080/"
        },
        "id": "V9khiAzrcIaS",
        "outputId": "6f82edd3-b51b-4a84-d84e-328d45de6eec"
      },
      "execution_count": null,
      "outputs": [
        {
          "metadata": {
            "tags": null
          },
          "name": "stdout",
          "output_type": "stream",
          "text": [
            "n_users=29858, n_items=40981\n",
            "n_interactions=1027370\n",
            "n_train=810128, n_test=217242, sparsity=0.00084\n",
            "already load adj matrix (70839, 70839) 0.1839430332183838\n",
            "Epoch 0 [108.4s]: train==[420.37302=420.33682 + 0.03578]\n",
            "Epoch 1 [106.8s]: train==[231.44963=231.41345 + 0.03617]\n",
            "Epoch 2 [107.5s]: train==[192.21315=192.17667 + 0.03645]\n",
            "Epoch 3 [106.9s]: train==[177.06364=177.02698 + 0.03667]\n",
            "Epoch 4 [106.9s]: train==[163.20982=163.17282 + 0.03690]\n",
            "Traceback (most recent call last):\n",
            "  File \"/content/NGCF-PyTorch/NGCF/main.py\", line 111, in <module>\n",
            "    best_rec_0 = max(recs[:, 0])\n",
            "IndexError: too many indices for array: array is 1-dimensional, but 2 were indexed\n"
          ]
        }
      ]
    },
    {
      "cell_type": "code",
      "source": [
        "!python main.py --gpu_id 0 --epoch 10"
      ],
      "metadata": {
        "id": "ruY3fX4ecL2O",
        "colab": {
          "base_uri": "https://localhost:8080/"
        },
        "outputId": "58475810-9303-4fd7-a559-c6e9fdf2b933"
      },
      "execution_count": null,
      "outputs": [
        {
          "output_type": "stream",
          "name": "stdout",
          "text": [
            "n_users=29858, n_items=40981\n",
            "n_interactions=1027370\n",
            "n_train=810128, n_test=217242, sparsity=0.00084\n",
            "already load adj matrix (70839, 70839) 0.183990478515625\n",
            "Epoch 0 [108.9s]: train==[420.63196=420.59613 + 0.03579]\n",
            "Epoch 1 [106.7s]: train==[232.64725=232.61102 + 0.03621]\n",
            "Epoch 2 [106.8s]: train==[193.68222=193.64580 + 0.03647]\n",
            "Epoch 3 [106.7s]: train==[178.46336=178.42668 + 0.03666]\n",
            "Epoch 4 [106.4s]: train==[165.58945=165.55264 + 0.03682]\n",
            "Epoch 5 [106.7s]: train==[153.39201=153.35495 + 0.03698]\n",
            "Epoch 6 [106.3s]: train==[143.38887=143.35175 + 0.03712]\n",
            "Epoch 7 [106.7s]: train==[136.50131=136.46416 + 0.03725]\n",
            "Epoch 8 [106.3s]: train==[131.39021=131.35278 + 0.03738]\n",
            "Epoch 9 [106.7s + 410.9s]: train==[127.13983=127.10233 + 0.03750], recall=[0.03616, 0.11743], precision=[0.01165, 0.00757], hit=[0.18099, 0.41939], ndcg=[0.02568, 0.04991]\n",
            "Best Iter=[0]@[1480.1]\trecall=[0.03616\t0.06089\t0.08220\t0.10082\t0.11743], precision=[0.01165\t0.00975\t0.00880\t0.00811\t0.00757], hit=[0.18099\t0.26994\t0.33428\t0.38157\t0.41939], ndcg=[0.02568\t0.03379\t0.04022\t0.04546\t0.04991]\n"
          ]
        }
      ]
    },
    {
      "cell_type": "code",
      "source": [
        "!pwd"
      ],
      "metadata": {
        "id": "KYZHe0_XjI_r",
        "colab": {
          "base_uri": "https://localhost:8080/"
        },
        "outputId": "dd9ab332-caac-4061-9867-5690b7be3eba"
      },
      "execution_count": 3,
      "outputs": [
        {
          "output_type": "stream",
          "name": "stdout",
          "text": [
            "/content/NGCF-PyTorch/NGCF\n"
          ]
        }
      ]
    },
    {
      "cell_type": "code",
      "source": [
        "!python main.py --gpu_id 0 --epoch 10"
      ],
      "metadata": {
        "colab": {
          "base_uri": "https://localhost:8080/"
        },
        "id": "YuOTAmGfcdPf",
        "outputId": "ed6d753a-b187-42ee-f57e-ed27f33a2d4f"
      },
      "execution_count": 10,
      "outputs": [
        {
          "output_type": "stream",
          "name": "stdout",
          "text": [
            "n_users=29858, n_items=40981\n",
            "n_interactions=1027370\n",
            "n_train=810128, n_test=217242, sparsity=0.00084\n",
            "already load adj matrix (70839, 70839) 0.1865978240966797\n",
            "Model created\n",
            "Epoch started\n",
            "Epoch 0 [204.8s]: train==[1978.29858=447.21204 + 0.03580 + 1531.05066], total_loss=[1978.29858]\n",
            "Epoch started\n",
            "Epoch 1 [203.1s]: train==[1278.17944=220.43387 + 0.03636 + 1057.70923], total_loss=[1278.17944]\n",
            "Epoch started\n",
            "Epoch 2 [202.8s]: train==[811.45032=173.24817 + 0.03681 + 638.16534], total_loss=[811.45032]\n",
            "Epoch started\n",
            "Epoch 3 [203.7s]: train==[600.16559=159.43860 + 0.03714 + 440.68991], total_loss=[600.16559]\n",
            "Epoch started\n",
            "Epoch 4 [204.0s]: train==[479.76154=153.98970 + 0.03748 + 325.73428], total_loss=[479.76154]\n",
            "Epoch started\n",
            "Epoch 5 [202.7s]: train==[406.70419=150.52411 + 0.03784 + 256.14224], total_loss=[406.70419]\n",
            "Epoch started\n",
            "Epoch 6 [202.9s]: train==[358.75122=147.44214 + 0.03820 + 211.27090], total_loss=[358.75122]\n",
            "Epoch started\n",
            "Epoch 7 [203.1s]: train==[324.73608=144.75491 + 0.03857 + 179.94272], total_loss=[324.73608]\n",
            "Epoch started\n",
            "Epoch 8 [203.2s]: train==[300.09946=142.68906 + 0.03896 + 157.37132], total_loss=[300.09946]\n",
            "Epoch started\n",
            "Epoch 9 [202.6s + 416.3s]: train==[140.47438=140.43492 + 0.03935 + 466.53662], recall=[0.06279, 0.19655], precision=[0.01858, 0.01208], hit=[0.24395, 0.51855], ndcg=[0.04203, 0.08208]\n",
            "Epoch ended\n",
            "Best Iter=[0]@[2450.3]\trecall=[0.06279\t0.10629\t0.14095\t0.17055\t0.19655], precision=[0.01858\t0.01592\t0.01420\t0.01299\t0.01208], hit=[0.24395\t0.35049\t0.42196\t0.47374\t0.51855], ndcg=[0.04203\t0.05644\t0.06683\t0.07511\t0.08208]\n"
          ]
        }
      ]
    },
    {
      "cell_type": "code",
      "source": [],
      "metadata": {
        "id": "9lMxPj1FchNj"
      },
      "execution_count": null,
      "outputs": []
    }
  ]
}