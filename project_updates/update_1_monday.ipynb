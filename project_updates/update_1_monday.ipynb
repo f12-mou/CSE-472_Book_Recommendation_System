{
  "nbformat": 4,
  "nbformat_minor": 0,
  "metadata": {
    "colab": {
      "provenance": [],
      "gpuType": "T4"
    },
    "kernelspec": {
      "name": "python3",
      "display_name": "Python 3"
    },
    "language_info": {
      "name": "python"
    },
    "accelerator": "GPU"
  },
  "cells": [
    {
      "cell_type": "code",
      "execution_count": null,
      "metadata": {
        "id": "ir1wvRGrXOjI",
        "colab": {
          "base_uri": "https://localhost:8080/"
        },
        "outputId": "580c7712-f1f4-437b-8ae5-b63132bc0714"
      },
      "outputs": [
        {
          "output_type": "stream",
          "name": "stdout",
          "text": [
            "[NGCF-PyTorch.zip]\n",
            "  End-of-central-directory signature not found.  Either this file is not\n",
            "  a zipfile, or it constitutes one disk of a multi-part archive.  In the\n",
            "  latter case the central directory and zipfile comment will be found on\n",
            "  the last disk(s) of this archive.\n",
            "unzip:  cannot find zipfile directory in one of NGCF-PyTorch.zip or\n",
            "        NGCF-PyTorch.zip.zip, and cannot find NGCF-PyTorch.zip.ZIP, period.\n"
          ]
        }
      ],
      "source": [
        "!unzip -q NGCF-PyTorch.zip\n"
      ]
    },
    {
      "cell_type": "code",
      "source": [
        "!git clone https://github.com/huangtinglin/NGCF-PyTorch.git"
      ],
      "metadata": {
        "colab": {
          "base_uri": "https://localhost:8080/"
        },
        "id": "YG_O8zoZaPHl",
        "outputId": "6f72f09f-f806-4cbf-ca3d-b93759380388"
      },
      "execution_count": null,
      "outputs": [
        {
          "output_type": "stream",
          "name": "stdout",
          "text": [
            "Cloning into 'NGCF-PyTorch'...\n",
            "remote: Enumerating objects: 66, done.\u001b[K\n",
            "remote: Counting objects: 100% (11/11), done.\u001b[K\n",
            "remote: Compressing objects: 100% (9/9), done.\u001b[K\n",
            "remote: Total 66 (delta 4), reused 2 (delta 2), pack-reused 55 (from 1)\u001b[K\n",
            "Receiving objects: 100% (66/66), 11.71 MiB | 13.72 MiB/s, done.\n",
            "Resolving deltas: 100% (21/21), done.\n"
          ]
        }
      ]
    },
    {
      "cell_type": "code",
      "source": [
        "!python main.py --gpu_id 0 --epoch 5 --batch_size 256\n"
      ],
      "metadata": {
        "colab": {
          "base_uri": "https://localhost:8080/"
        },
        "id": "WNdYClugasD6",
        "outputId": "ecbddd34-6aa7-493b-f7b0-82e1a3512eee"
      },
      "execution_count": null,
      "outputs": [
        {
          "output_type": "stream",
          "name": "stdout",
          "text": [
            "python3: can't open file '/content/main.py': [Errno 2] No such file or directory\n"
          ]
        }
      ]
    },
    {
      "cell_type": "code",
      "source": [
        "!python ./NGCF-PyTorch/NGCF/main.py --gpu_id 0 --epoch 5\n"
      ],
      "metadata": {
        "colab": {
          "base_uri": "https://localhost:8080/"
        },
        "id": "s2k5Emw6a3uS",
        "outputId": "91e2b43f-d14a-454c-e558-ddf806905b70"
      },
      "execution_count": null,
      "outputs": [
        {
          "output_type": "stream",
          "name": "stdout",
          "text": [
            "Traceback (most recent call last):\n",
            "  File \"/content/./NGCF-PyTorch/NGCF/main.py\", line 12, in <module>\n",
            "    from utility.batch_test import *\n",
            "  File \"/content/NGCF-PyTorch/NGCF/utility/batch_test.py\", line 19, in <module>\n",
            "    data_generator = Data(path=args.data_path + args.dataset, batch_size=args.batch_size)\n",
            "  File \"/content/NGCF-PyTorch/NGCF/utility/load_data.py\", line 28, in __init__\n",
            "    with open(train_file) as f:\n",
            "FileNotFoundError: [Errno 2] No such file or directory: '../Data/gowalla/train.txt'\n"
          ]
        }
      ]
    },
    {
      "cell_type": "code",
      "source": [
        "import os\n",
        "print(os.getcwd())"
      ],
      "metadata": {
        "colab": {
          "base_uri": "https://localhost:8080/"
        },
        "id": "GTgwlfEqbJog",
        "outputId": "851ae81b-e146-4f18-dead-284e65916c3a"
      },
      "execution_count": null,
      "outputs": [
        {
          "output_type": "stream",
          "name": "stdout",
          "text": [
            "/content\n"
          ]
        }
      ]
    },
    {
      "cell_type": "code",
      "source": [
        "%cd /content/NGCF-PyTorch/NGCF\n"
      ],
      "metadata": {
        "colab": {
          "base_uri": "https://localhost:8080/"
        },
        "id": "wQc02dRYb3pR",
        "outputId": "87f4a2a1-4cbc-40aa-972f-dea096cfba55"
      },
      "execution_count": null,
      "outputs": [
        {
          "output_type": "stream",
          "name": "stdout",
          "text": [
            "/content/NGCF-PyTorch/NGCF\n"
          ]
        }
      ]
    },
    {
      "cell_type": "code",
      "source": [
        "!python main.py --gpu_id 0 --epoch 5"
      ],
      "metadata": {
        "colab": {
          "base_uri": "https://localhost:8080/"
        },
        "id": "V9khiAzrcIaS",
        "outputId": "6f82edd3-b51b-4a84-d84e-328d45de6eec"
      },
      "execution_count": 4,
      "outputs": [
        {
          "metadata": {
            "tags": null
          },
          "name": "stdout",
          "output_type": "stream",
          "text": [
            "n_users=29858, n_items=40981\n",
            "n_interactions=1027370\n",
            "n_train=810128, n_test=217242, sparsity=0.00084\n",
            "already load adj matrix (70839, 70839) 0.1839430332183838\n",
            "Epoch 0 [108.4s]: train==[420.37302=420.33682 + 0.03578]\n",
            "Epoch 1 [106.8s]: train==[231.44963=231.41345 + 0.03617]\n",
            "Epoch 2 [107.5s]: train==[192.21315=192.17667 + 0.03645]\n",
            "Epoch 3 [106.9s]: train==[177.06364=177.02698 + 0.03667]\n",
            "Epoch 4 [106.9s]: train==[163.20982=163.17282 + 0.03690]\n",
            "Traceback (most recent call last):\n",
            "  File \"/content/NGCF-PyTorch/NGCF/main.py\", line 111, in <module>\n",
            "    best_rec_0 = max(recs[:, 0])\n",
            "IndexError: too many indices for array: array is 1-dimensional, but 2 were indexed\n"
          ]
        }
      ]
    },
    {
      "cell_type": "code",
      "source": [
        "!python main.py --gpu_id 0 --epoch 10"
      ],
      "metadata": {
        "id": "ruY3fX4ecL2O",
        "colab": {
          "base_uri": "https://localhost:8080/"
        },
        "outputId": "58475810-9303-4fd7-a559-c6e9fdf2b933"
      },
      "execution_count": 7,
      "outputs": [
        {
          "output_type": "stream",
          "name": "stdout",
          "text": [
            "n_users=29858, n_items=40981\n",
            "n_interactions=1027370\n",
            "n_train=810128, n_test=217242, sparsity=0.00084\n",
            "already load adj matrix (70839, 70839) 0.183990478515625\n",
            "Epoch 0 [108.9s]: train==[420.63196=420.59613 + 0.03579]\n",
            "Epoch 1 [106.7s]: train==[232.64725=232.61102 + 0.03621]\n",
            "Epoch 2 [106.8s]: train==[193.68222=193.64580 + 0.03647]\n",
            "Epoch 3 [106.7s]: train==[178.46336=178.42668 + 0.03666]\n",
            "Epoch 4 [106.4s]: train==[165.58945=165.55264 + 0.03682]\n",
            "Epoch 5 [106.7s]: train==[153.39201=153.35495 + 0.03698]\n",
            "Epoch 6 [106.3s]: train==[143.38887=143.35175 + 0.03712]\n",
            "Epoch 7 [106.7s]: train==[136.50131=136.46416 + 0.03725]\n",
            "Epoch 8 [106.3s]: train==[131.39021=131.35278 + 0.03738]\n",
            "Epoch 9 [106.7s + 410.9s]: train==[127.13983=127.10233 + 0.03750], recall=[0.03616, 0.11743], precision=[0.01165, 0.00757], hit=[0.18099, 0.41939], ndcg=[0.02568, 0.04991]\n",
            "Best Iter=[0]@[1480.1]\trecall=[0.03616\t0.06089\t0.08220\t0.10082\t0.11743], precision=[0.01165\t0.00975\t0.00880\t0.00811\t0.00757], hit=[0.18099\t0.26994\t0.33428\t0.38157\t0.41939], ndcg=[0.02568\t0.03379\t0.04022\t0.04546\t0.04991]\n"
          ]
        }
      ]
    },
    {
      "cell_type": "code",
      "source": [],
      "metadata": {
        "id": "KYZHe0_XjI_r"
      },
      "execution_count": null,
      "outputs": []
    }
  ]
}